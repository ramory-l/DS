{
 "cells": [
  {
   "cell_type": "code",
   "execution_count": 21,
   "metadata": {},
   "outputs": [],
   "source": [
    "import math\n",
    "import numpy as np\n",
    "from sklearn.metrics import log_loss"
   ]
  },
  {
   "cell_type": "markdown",
   "metadata": {},
   "source": [
    "$logloss(y_{true}, y_{pred})=-y_{true}ln y_{pred}-(1-y_{true})ln(1-y_{pred})$"
   ]
  },
  {
   "cell_type": "code",
   "execution_count": 59,
   "metadata": {},
   "outputs": [],
   "source": [
    "# Функция ошибки logloss для одномерного случая\n",
    "def logloss(y_true, y_pred):\n",
    "    result = -y_true * np.log(y_pred) - (1 - y_true)*np.log(1 - y_pred)\n",
    "    result = result[~np.isnan(result)]\n",
    "    return sum(result)"
   ]
  },
  {
   "cell_type": "markdown",
   "metadata": {},
   "source": [
    "$logloss(y_{true}, y_{pred})=-\\frac{1}{n}\\sum_{i=1}^{n}\\sum_{j=1}^{m}y_{true_-ij}*lny_{pred_-ij}$\n",
    "\n",
    "$y_{true_-ij}$ — бинарная переменная. 1 — если пример i имеет класс j, иначе равно 0.\n",
    "\n",
    "$y_{pred_-ij}$ — вероятность того, что пример i имеет класс j, берётся из модели."
   ]
  },
  {
   "cell_type": "code",
   "execution_count": 126,
   "metadata": {},
   "outputs": [],
   "source": [
    "def multilogloss(y_true, y_pred):\n",
    "    n, m = y_true.shape\n",
    "    i = 0\n",
    "    new = []\n",
    "    while i < n:\n",
    "        j = 0\n",
    "        while j < m:\n",
    "            result = y_true[i, j] * np.log(y_pred[i, j])\n",
    "            new.append(result)\n",
    "            j += 1\n",
    "        i += 1\n",
    "    new = np.array(new)\n",
    "    new = new[~np.isnan(new)]\n",
    "    return -1/n * sum(new)"
   ]
  },
  {
   "cell_type": "code",
   "execution_count": 127,
   "metadata": {},
   "outputs": [],
   "source": [
    "y_pred = np.array([0.2, 0.8, 1, 0.6])\n",
    "y_true = np.array([0, 0, 1, 1])"
   ]
  },
  {
   "cell_type": "code",
   "execution_count": 128,
   "metadata": {},
   "outputs": [
    {
     "data": {
      "text/plain": [
       "2.343407087514302"
      ]
     },
     "execution_count": 128,
     "metadata": {},
     "output_type": "execute_result"
    }
   ],
   "source": [
    "log_loss(y_true, y_pred) * 4"
   ]
  },
  {
   "cell_type": "code",
   "execution_count": 129,
   "metadata": {},
   "outputs": [
    {
     "name": "stderr",
     "output_type": "stream",
     "text": [
      "<ipython-input-59-50820bc72372>:3: RuntimeWarning: divide by zero encountered in log\n",
      "  result = -y_true * np.log(y_pred) - (1 - y_true)*np.log(1 - y_pred)\n",
      "<ipython-input-59-50820bc72372>:3: RuntimeWarning: invalid value encountered in multiply\n",
      "  result = -y_true * np.log(y_pred) - (1 - y_true)*np.log(1 - y_pred)\n"
     ]
    },
    {
     "data": {
      "text/plain": [
       "2.3434070875143007"
      ]
     },
     "execution_count": 129,
     "metadata": {},
     "output_type": "execute_result"
    }
   ],
   "source": [
    "logloss(y_true, y_pred)"
   ]
  },
  {
   "cell_type": "markdown",
   "metadata": {},
   "source": [
    "Посчитайте $logloss$ для данных в таблице. Необходимо найти среднюю ошибку. Классификация на три класса:"
   ]
  },
  {
   "cell_type": "code",
   "execution_count": null,
   "metadata": {},
   "outputs": [],
   "source": []
  },
  {
   "cell_type": "code",
   "execution_count": 130,
   "metadata": {},
   "outputs": [],
   "source": [
    "y_pred = np.array([[0.2, 0.3, 0.5], [0, 0, 1], [0.1, 0, 0.9]])\n",
    "y_true = np.array([[0, 0, 1], [0, 0, 1], [1, 0, 0]])"
   ]
  }
 ],
 "metadata": {
  "kernelspec": {
   "display_name": "Python 3",
   "language": "python",
   "name": "python3"
  },
  "language_info": {
   "codemirror_mode": {
    "name": "ipython",
    "version": 3
   },
   "file_extension": ".py",
   "mimetype": "text/x-python",
   "name": "python",
   "nbconvert_exporter": "python",
   "pygments_lexer": "ipython3",
   "version": "3.8.5"
  }
 },
 "nbformat": 4,
 "nbformat_minor": 4
}

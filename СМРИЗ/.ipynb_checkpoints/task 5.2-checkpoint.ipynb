{
 "cells": [
  {
   "cell_type": "markdown",
   "metadata": {},
   "source": [
    "# 1. Проблема\n",
    "\n",
    "![task5](task5.jpg)"
   ]
  },
  {
   "cell_type": "markdown",
   "metadata": {},
   "source": [
    "# 2. Содержательная постановка\n",
    "\n",
    "1. Составить план работы агрегатов для получения максимальной прибыли, используя приведенную таблицу объема получаемой прибыли.\n",
    "\n",
    "2. Посчитать максимальную прибыль."
   ]
  },
  {
   "cell_type": "markdown",
   "metadata": {},
   "source": [
    "# 3. Формальная постановка\n",
    "\n",
    "Пусть \n",
    "\n",
    "- $X = ||x_{ij}||$ - двумерное пространство использования заданных объемов.\n",
    "\n",
    "- $C = ||c_{ij}||$ - двумерное пространство прибыли при заданном объеме ресурсов.\n",
    "\n",
    "- $W = (w_1,w_2,w_3,w_4)$ - пространство весов объемов\n",
    "\n",
    "Тут \n",
    "\n",
    "- $i$ - объем ресурсов\n",
    "\n",
    "- $j$ - номер агрегата\n",
    "\n",
    "Задача:\n",
    "\n",
    "$$\n",
    "\\sum\\limits_{i=1}^4\\sum\\limits_{j=1}^4c_{ij}x_{ij} \\rightarrow \\max\n",
    "$$\n",
    "\n",
    "Ограничения нормированности по ГОСТу (условия):\n",
    "\n",
    "$\n",
    "\\forall i,j:\\ 0 \\leq x_{ij} \\leq 1\n",
    "$ - неотрицательность числа использования объемов и невозможность использовать объем больше 1 раза\n",
    "\n",
    "$\n",
    "\\sum\\limits_{i=1}^4\\sum\\limits_{j=1}^4 x_{ij}w_i \\leq 4\n",
    "$ - ограничение на общий объем"
   ]
  },
  {
   "cell_type": "markdown",
   "metadata": {},
   "source": [
    "# 4. Алгоритм и ПО\n",
    "\n",
    "В качестве ПО будем использовать ЯП **Python** с подключенными модулями:\n",
    "\n",
    "- **numpy** - для работы с линейной алгеброй\n",
    "\n",
    "- **cvxpy** - для работы с линейным программированием\n",
    "\n",
    "В качестве среды разработки **Jupyter Lab**,"
   ]
  },
  {
   "cell_type": "markdown",
   "metadata": {},
   "source": [
    "# 5. Решение\n",
    "\n",
    "Приведем в качестве решения скрипт:"
   ]
  },
  {
   "cell_type": "code",
   "execution_count": 57,
   "metadata": {},
   "outputs": [],
   "source": [
    "def profit(c,w=None,resource_limit=4, accuracy=1):\n",
    "    '''\n",
    "    Функция, подсчитывающая объем получаемой прибыли\n",
    "    при использовании оптимального распределения\n",
    "    работы агрегатов, а также план их работы\n",
    "    \n",
    "    c - 2D-список\n",
    "    получаемой прибыли при\n",
    "    заданном объеме ресурсов\n",
    "    для агрегатов\n",
    "    \n",
    "    w - список\n",
    "    весов объемов\n",
    "    (по умолчанию массив чисел от 1 до n, где n - число вариантов)\n",
    "    \n",
    "    resource_limit - число\n",
    "    ресурсов, которое можно использовать\n",
    "    \n",
    "    accuracy - число\n",
    "    запятых, которе оставляем после запятой\n",
    "    '''\n",
    "    \n",
    "    import cvxpy\n",
    "    import numpy as np\n",
    "    \n",
    "    c = np.array(c)\n",
    "    shp = np.shape(c)\n",
    "    if w is None:\n",
    "        w = np.array([i for i in range(1,shp[1]+1)]*shp[0]).reshape(shp)\n",
    "    x = cvxpy.Variable(shape=shp, integer = True)\n",
    "    \n",
    "    constraints = [(x >= 0),\n",
    "                   (x <= 1),\n",
    "                   (cvxpy.sum(cvxpy.multiply(w, x)) <= resource_limit)]\n",
    "\n",
    "    total_value = -cvxpy.sum(cvxpy.multiply(c, x))\n",
    "    problem = cvxpy.Problem(cvxpy.Minimize(total_value), constraints=constraints)\n",
    "    \n",
    "    print('Макимальная прибыль: {}$'.format(abs(round(problem.solve(),accuracy))))\n",
    "    \n",
    "    print('\\nМатрица распределения работы агрегатов:\\n')\n",
    "    for i in range(len(x.value)):\n",
    "        print(' '.join([str(j) for j in x.value[i].astype(int)]))\n",
    "    \n",
    "    return (abs(problem.solve()))"
   ]
  },
  {
   "cell_type": "markdown",
   "metadata": {},
   "source": [
    "# 6. Анализ\n",
    "\n",
    "Запустим скрипт на наших данных:"
   ]
  },
  {
   "cell_type": "code",
   "execution_count": 58,
   "metadata": {},
   "outputs": [
    {
     "name": "stdout",
     "output_type": "stream",
     "text": [
      "Макимальная прибыль: 19.5$\n",
      "\n",
      "Матрица распределения работы агрегатов:\n",
      "\n",
      "1 0 0 0\n",
      "1 0 0 0\n",
      "1 0 0 0\n",
      "1 0 0 0\n"
     ]
    }
   ],
   "source": [
    "c = [[5,7.5,9,11],\n",
    "     [4,5.5,8,10],\n",
    "     [6,8,10,12],\n",
    "     [4.5,7,9,11]]\n",
    "\n",
    "profit(c);"
   ]
  },
  {
   "cell_type": "markdown",
   "metadata": {},
   "source": [
    "Получаем максимальную суммарную прибыль в \n",
    "\n",
    "$19.5\\$$\n",
    "\n",
    "Получаем распределение работы агрегатов по объему ресурсов:\n",
    "\n",
    "$\\begin{pmatrix}\n",
    "1 & 0 & 0 & 0 \\\\\n",
    "1 & 0 & 0 & 0 \\\\\n",
    "1 & 0 & 0 & 0 \\\\\n",
    "1 & 0 & 0 & 0\n",
    "\\end{pmatrix}$\n",
    "\n",
    "Видим вполне логичный результат. Из самой таблицы видно, что лучше всего использовать все агрегаты по одному разу."
   ]
  }
 ],
 "metadata": {
  "kernelspec": {
   "display_name": "Python 3",
   "language": "python",
   "name": "python3"
  },
  "language_info": {
   "codemirror_mode": {
    "name": "ipython",
    "version": 3
   },
   "file_extension": ".py",
   "mimetype": "text/x-python",
   "name": "python",
   "nbconvert_exporter": "python",
   "pygments_lexer": "ipython3",
   "version": "3.9.0"
  }
 },
 "nbformat": 4,
 "nbformat_minor": 4
}

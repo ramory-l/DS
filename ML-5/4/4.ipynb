{
 "cells": [
  {
   "cell_type": "code",
   "execution_count": 187,
   "metadata": {},
   "outputs": [],
   "source": [
    "import pandas as pd\n",
    "import numpy as np\n",
    "import matplotlib.pyplot as plt\n",
    "from sklearn.model_selection import train_test_split, GridSearchCV\n",
    "from sklearn.ensemble import GradientBoostingClassifier\n",
    "from sklearn.metrics import accuracy_score\n",
    "from sklearn.tree import DecisionTreeClassifier"
   ]
  },
  {
   "cell_type": "code",
   "execution_count": 111,
   "metadata": {},
   "outputs": [],
   "source": [
    "df = pd.read_csv('https://raw.githubusercontent.com/vincentarelbundock/Rdatasets/master/csv/DAAG/spam7.csv')"
   ]
  },
  {
   "cell_type": "code",
   "execution_count": 112,
   "metadata": {},
   "outputs": [
    {
     "data": {
      "text/html": [
       "<div>\n",
       "<style scoped>\n",
       "    .dataframe tbody tr th:only-of-type {\n",
       "        vertical-align: middle;\n",
       "    }\n",
       "\n",
       "    .dataframe tbody tr th {\n",
       "        vertical-align: top;\n",
       "    }\n",
       "\n",
       "    .dataframe thead th {\n",
       "        text-align: right;\n",
       "    }\n",
       "</style>\n",
       "<table border=\"1\" class=\"dataframe\">\n",
       "  <thead>\n",
       "    <tr style=\"text-align: right;\">\n",
       "      <th></th>\n",
       "      <th>Unnamed: 0</th>\n",
       "      <th>crl.tot</th>\n",
       "      <th>dollar</th>\n",
       "      <th>bang</th>\n",
       "      <th>money</th>\n",
       "      <th>n000</th>\n",
       "      <th>make</th>\n",
       "      <th>yesno</th>\n",
       "    </tr>\n",
       "  </thead>\n",
       "  <tbody>\n",
       "    <tr>\n",
       "      <th>0</th>\n",
       "      <td>1</td>\n",
       "      <td>278</td>\n",
       "      <td>0.000</td>\n",
       "      <td>0.778</td>\n",
       "      <td>0.00</td>\n",
       "      <td>0.00</td>\n",
       "      <td>0.00</td>\n",
       "      <td>y</td>\n",
       "    </tr>\n",
       "    <tr>\n",
       "      <th>1</th>\n",
       "      <td>2</td>\n",
       "      <td>1028</td>\n",
       "      <td>0.180</td>\n",
       "      <td>0.372</td>\n",
       "      <td>0.43</td>\n",
       "      <td>0.43</td>\n",
       "      <td>0.21</td>\n",
       "      <td>y</td>\n",
       "    </tr>\n",
       "    <tr>\n",
       "      <th>2</th>\n",
       "      <td>3</td>\n",
       "      <td>2259</td>\n",
       "      <td>0.184</td>\n",
       "      <td>0.276</td>\n",
       "      <td>0.06</td>\n",
       "      <td>1.16</td>\n",
       "      <td>0.06</td>\n",
       "      <td>y</td>\n",
       "    </tr>\n",
       "    <tr>\n",
       "      <th>3</th>\n",
       "      <td>4</td>\n",
       "      <td>191</td>\n",
       "      <td>0.000</td>\n",
       "      <td>0.137</td>\n",
       "      <td>0.00</td>\n",
       "      <td>0.00</td>\n",
       "      <td>0.00</td>\n",
       "      <td>y</td>\n",
       "    </tr>\n",
       "    <tr>\n",
       "      <th>4</th>\n",
       "      <td>5</td>\n",
       "      <td>191</td>\n",
       "      <td>0.000</td>\n",
       "      <td>0.135</td>\n",
       "      <td>0.00</td>\n",
       "      <td>0.00</td>\n",
       "      <td>0.00</td>\n",
       "      <td>y</td>\n",
       "    </tr>\n",
       "  </tbody>\n",
       "</table>\n",
       "</div>"
      ],
      "text/plain": [
       "   Unnamed: 0  crl.tot  dollar   bang  money  n000  make yesno\n",
       "0           1      278   0.000  0.778   0.00  0.00  0.00     y\n",
       "1           2     1028   0.180  0.372   0.43  0.43  0.21     y\n",
       "2           3     2259   0.184  0.276   0.06  1.16  0.06     y\n",
       "3           4      191   0.000  0.137   0.00  0.00  0.00     y\n",
       "4           5      191   0.000  0.135   0.00  0.00  0.00     y"
      ]
     },
     "execution_count": 112,
     "metadata": {},
     "output_type": "execute_result"
    }
   ],
   "source": [
    "df.head()"
   ]
  },
  {
   "cell_type": "markdown",
   "metadata": {},
   "source": [
    "## Предобработка данных"
   ]
  },
  {
   "cell_type": "code",
   "execution_count": 113,
   "metadata": {},
   "outputs": [],
   "source": [
    "df.drop(['Unnamed: 0'], axis=1, inplace=True)"
   ]
  },
  {
   "cell_type": "code",
   "execution_count": 114,
   "metadata": {},
   "outputs": [],
   "source": [
    "df.loc[df['yesno'] == 'y', 'yesno'] = 1\n",
    "df.loc[df['yesno'] == 'n', 'yesno'] = 0"
   ]
  },
  {
   "cell_type": "code",
   "execution_count": 115,
   "metadata": {},
   "outputs": [],
   "source": [
    "df.rename(columns={'yesno': 'spam'}, inplace=True)"
   ]
  },
  {
   "cell_type": "code",
   "execution_count": 122,
   "metadata": {},
   "outputs": [],
   "source": [
    "X = df.iloc[:, :-1].values\n",
    "y = df.iloc[:,-1].values\n",
    "y = y.astype(int)"
   ]
  },
  {
   "cell_type": "code",
   "execution_count": 138,
   "metadata": {},
   "outputs": [],
   "source": [
    "names = list(df.columns[:-1])\n",
    "for j in range(5):\n",
    "    i = j+1\n",
    "    while i < 6:\n",
    "        names.append(f'{names[j]}_{names[i]}')\n",
    "        i+=1\n",
    "importances = pd.DataFrame(gradBC.feature_importances_, index=names)"
   ]
  },
  {
   "cell_type": "code",
   "execution_count": 131,
   "metadata": {},
   "outputs": [
    {
     "data": {
      "text/plain": [
       "(4601, 21)"
      ]
     },
     "execution_count": 131,
     "metadata": {},
     "output_type": "execute_result"
    }
   ],
   "source": [
    "X.shape"
   ]
  },
  {
   "cell_type": "markdown",
   "metadata": {},
   "source": [
    "## Задание 4.1"
   ]
  },
  {
   "cell_type": "code",
   "execution_count": 150,
   "metadata": {},
   "outputs": [],
   "source": [
    "importances_sorted = importances.sort_values(by=0, ascending=False)\n",
    "importances_sorted = importances_sorted[0].to_dict()"
   ]
  },
  {
   "cell_type": "code",
   "execution_count": 99,
   "metadata": {},
   "outputs": [],
   "source": [
    "y = df[['spam']]\n",
    "y = y.astype(int)"
   ]
  },
  {
   "cell_type": "markdown",
   "metadata": {},
   "source": [
    "## Задание 4.2"
   ]
  },
  {
   "cell_type": "code",
   "execution_count": 155,
   "metadata": {},
   "outputs": [],
   "source": [
    "## Количество сочетаний из n по k\n",
    "def С(n, k):\n",
    "    if 0 <= k <= n:\n",
    "        nn = 1\n",
    "        kk = 1\n",
    "        for t in range(1, min(k, n - k) + 1):\n",
    "            nn *= n\n",
    "            kk *= t\n",
    "            n -= 1\n",
    "        return nn // kk\n",
    "    else:\n",
    "        return 0"
   ]
  },
  {
   "cell_type": "code",
   "execution_count": 134,
   "metadata": {},
   "outputs": [
    {
     "data": {
      "text/plain": [
       "GradientBoostingClassifier(subsample=1)"
      ]
     },
     "execution_count": 134,
     "metadata": {},
     "output_type": "execute_result"
    }
   ],
   "source": [
    "gradBC.fit(X_train, y_train)"
   ]
  },
  {
   "cell_type": "code",
   "execution_count": 179,
   "metadata": {},
   "outputs": [
    {
     "data": {
      "text/plain": [
       "21"
      ]
     },
     "execution_count": 179,
     "metadata": {},
     "output_type": "execute_result"
    }
   ],
   "source": [
    "С(6, 2) + 6"
   ]
  },
  {
   "cell_type": "code",
   "execution_count": 132,
   "metadata": {},
   "outputs": [],
   "source": [
    "X_train, X_test, y_train, y_test = train_test_split(X, y, test_size=0.2, random_state=42)"
   ]
  },
  {
   "cell_type": "code",
   "execution_count": 153,
   "metadata": {},
   "outputs": [],
   "source": [
    "y_pred = gradBC.predict(X_test)"
   ]
  },
  {
   "cell_type": "markdown",
   "metadata": {},
   "source": [
    "## Задание 4.3"
   ]
  },
  {
   "cell_type": "code",
   "execution_count": 133,
   "metadata": {},
   "outputs": [],
   "source": [
    "gradBC = GradientBoostingClassifier(learning_rate=0.1, n_estimators=100, max_depth=3, min_samples_split=2, min_samples_leaf=1, subsample=1, max_features=None)"
   ]
  },
  {
   "cell_type": "code",
   "execution_count": 154,
   "metadata": {},
   "outputs": [
    {
     "data": {
      "text/plain": [
       "0.8653637350705755"
      ]
     },
     "execution_count": 154,
     "metadata": {},
     "output_type": "execute_result"
    }
   ],
   "source": [
    "gradBC.score(X_test, y_test)"
   ]
  },
  {
   "cell_type": "code",
   "execution_count": 152,
   "metadata": {},
   "outputs": [
    {
     "data": {
      "image/png": "[encoded data removed]",
      "text/plain": [
       "<Figure size 720x288 with 1 Axes>"
      ]
     },
     "metadata": {
      "needs_background": "light"
     },
     "output_type": "display_data"
    }
   ],
   "source": [
    "plt.figure(figsize=(10, 4))\n",
    "plt.barh(list(importances_sorted.keys()), list(importances_sorted.values()))\n",
    "plt.show()"
   ]
  },
  {
   "cell_type": "markdown",
   "metadata": {},
   "source": [
    "## Задание 4.4"
   ]
  },
  {
   "cell_type": "code",
   "execution_count": 158,
   "metadata": {},
   "outputs": [],
   "source": [
    "param_grid = {'learning_rate':[0.00001, 0.0001, 0.001, 0.01, 0.1, 1], \n",
    "              'n_estimators':[100, 250, 500, 750, 1000, 1250, 1500, 1750]}\n",
    "gb_model = GradientBoostingClassifier(random_state=42)\n",
    "grid_cv = GridSearchCV(estimator=gb_model, param_grid=param_grid, scoring='accuracy', cv=5, n_jobs=-1)"
   ]
  },
  {
   "cell_type": "code",
   "execution_count": 159,
   "metadata": {},
   "outputs": [
    {
     "data": {
      "text/plain": [
       "GridSearchCV(cv=5, estimator=GradientBoostingClassifier(random_state=42),\n",
       "             n_jobs=-1,\n",
       "             param_grid={'learning_rate': [1e-05, 0.0001, 0.001, 0.01, 0.1, 1],\n",
       "                         'n_estimators': [100, 250, 500, 750, 1000, 1250, 1500,\n",
       "                                          1750]},\n",
       "             scoring='accuracy')"
      ]
     },
     "execution_count": 159,
     "metadata": {},
     "output_type": "execute_result"
    }
   ],
   "source": [
    "grid_cv.fit(X_train, y_train)"
   ]
  },
  {
   "cell_type": "code",
   "execution_count": 160,
   "metadata": {},
   "outputs": [
    {
     "data": {
      "text/plain": [
       "0.8836956521739131"
      ]
     },
     "execution_count": 160,
     "metadata": {},
     "output_type": "execute_result"
    }
   ],
   "source": [
    "grid_cv.best_score_"
   ]
  },
  {
   "cell_type": "code",
   "execution_count": 175,
   "metadata": {},
   "outputs": [
    {
     "data": {
      "text/plain": [
       "[{'learning_rate': 1e-05, 'n_estimators': 100},\n",
       " {'learning_rate': 1e-05, 'n_estimators': 250},\n",
       " {'learning_rate': 1e-05, 'n_estimators': 500},\n",
       " {'learning_rate': 1e-05, 'n_estimators': 750},\n",
       " {'learning_rate': 1e-05, 'n_estimators': 1000},\n",
       " {'learning_rate': 1e-05, 'n_estimators': 1250},\n",
       " {'learning_rate': 1e-05, 'n_estimators': 1500},\n",
       " {'learning_rate': 1e-05, 'n_estimators': 1750},\n",
       " {'learning_rate': 0.0001, 'n_estimators': 100},\n",
       " {'learning_rate': 0.0001, 'n_estimators': 250},\n",
       " {'learning_rate': 0.0001, 'n_estimators': 500},\n",
       " {'learning_rate': 0.0001, 'n_estimators': 750},\n",
       " {'learning_rate': 0.0001, 'n_estimators': 1000},\n",
       " {'learning_rate': 0.0001, 'n_estimators': 1250},\n",
       " {'learning_rate': 0.0001, 'n_estimators': 1500},\n",
       " {'learning_rate': 0.0001, 'n_estimators': 1750},\n",
       " {'learning_rate': 0.001, 'n_estimators': 100},\n",
       " {'learning_rate': 0.001, 'n_estimators': 250},\n",
       " {'learning_rate': 0.001, 'n_estimators': 500},\n",
       " {'learning_rate': 0.001, 'n_estimators': 750},\n",
       " {'learning_rate': 0.001, 'n_estimators': 1000},\n",
       " {'learning_rate': 0.001, 'n_estimators': 1250},\n",
       " {'learning_rate': 0.001, 'n_estimators': 1500},\n",
       " {'learning_rate': 0.001, 'n_estimators': 1750},\n",
       " {'learning_rate': 0.01, 'n_estimators': 100},\n",
       " {'learning_rate': 0.01, 'n_estimators': 250},\n",
       " {'learning_rate': 0.01, 'n_estimators': 500},\n",
       " {'learning_rate': 0.01, 'n_estimators': 750},\n",
       " {'learning_rate': 0.01, 'n_estimators': 1000},\n",
       " {'learning_rate': 0.01, 'n_estimators': 1250},\n",
       " {'learning_rate': 0.01, 'n_estimators': 1500},\n",
       " {'learning_rate': 0.01, 'n_estimators': 1750},\n",
       " {'learning_rate': 0.1, 'n_estimators': 100},\n",
       " {'learning_rate': 0.1, 'n_estimators': 250},\n",
       " {'learning_rate': 0.1, 'n_estimators': 500},\n",
       " {'learning_rate': 0.1, 'n_estimators': 750},\n",
       " {'learning_rate': 0.1, 'n_estimators': 1000},\n",
       " {'learning_rate': 0.1, 'n_estimators': 1250},\n",
       " {'learning_rate': 0.1, 'n_estimators': 1500},\n",
       " {'learning_rate': 0.1, 'n_estimators': 1750},\n",
       " {'learning_rate': 1, 'n_estimators': 100},\n",
       " {'learning_rate': 1, 'n_estimators': 250},\n",
       " {'learning_rate': 1, 'n_estimators': 500},\n",
       " {'learning_rate': 1, 'n_estimators': 750},\n",
       " {'learning_rate': 1, 'n_estimators': 1000},\n",
       " {'learning_rate': 1, 'n_estimators': 1250},\n",
       " {'learning_rate': 1, 'n_estimators': 1500},\n",
       " {'learning_rate': 1, 'n_estimators': 1750}]"
      ]
     },
     "execution_count": 175,
     "metadata": {},
     "output_type": "execute_result"
    }
   ],
   "source": [
    "grid_cv.cv_results_['params']"
   ]
  },
  {
   "cell_type": "code",
   "execution_count": 163,
   "metadata": {},
   "outputs": [
    {
     "data": {
      "text/plain": [
       "0.8642779587404995"
      ]
     },
     "execution_count": 163,
     "metadata": {},
     "output_type": "execute_result"
    }
   ],
   "source": [
    "accuracy_score(y_test, predictions)"
   ]
  },
  {
   "cell_type": "markdown",
   "metadata": {},
   "source": [
    "## Задание 4.6"
   ]
  },
  {
   "cell_type": "code",
   "execution_count": 180,
   "metadata": {},
   "outputs": [
    {
     "data": {
      "text/plain": [
       "{'learning_rate': 0.01, 'n_estimators': 1250}"
      ]
     },
     "execution_count": 180,
     "metadata": {},
     "output_type": "execute_result"
    }
   ],
   "source": [
    "grid_cv.best_params_"
   ]
  },
  {
   "cell_type": "code",
   "execution_count": 181,
   "metadata": {},
   "outputs": [],
   "source": [
    "gradBC_best = GradientBoostingClassifier(learning_rate=0.01, n_estimators=1250,\n",
    "                                         max_depth=3, min_samples_split=2,\n",
    "                                         min_samples_leaf=1, subsample=1, max_features=None)"
   ]
  },
  {
   "cell_type": "code",
   "execution_count": 182,
   "metadata": {},
   "outputs": [],
   "source": [
    "param_grid = {'max_depth':list(range(5,16))}"
   ]
  },
  {
   "cell_type": "code",
   "execution_count": 183,
   "metadata": {},
   "outputs": [],
   "source": [
    "grid_cv_gradBC_best = GridSearchCV(estimator=gradBC_best, param_grid=param_grid, scoring='accuracy', cv=5, n_jobs=-1)"
   ]
  },
  {
   "cell_type": "code",
   "execution_count": 184,
   "metadata": {},
   "outputs": [
    {
     "data": {
      "text/plain": [
       "GridSearchCV(cv=5,\n",
       "             estimator=GradientBoostingClassifier(learning_rate=0.01,\n",
       "                                                  n_estimators=1250,\n",
       "                                                  subsample=1),\n",
       "             n_jobs=-1,\n",
       "             param_grid={'max_depth': [5, 6, 7, 8, 9, 10, 11, 12, 13, 14, 15]},\n",
       "             scoring='accuracy')"
      ]
     },
     "execution_count": 184,
     "metadata": {},
     "output_type": "execute_result"
    }
   ],
   "source": [
    "grid_cv_gradBC_best.fit(X_train, y_train)"
   ]
  },
  {
   "cell_type": "code",
   "execution_count": 185,
   "metadata": {},
   "outputs": [
    {
     "data": {
      "text/plain": [
       "{'max_depth': 5}"
      ]
     },
     "execution_count": 185,
     "metadata": {},
     "output_type": "execute_result"
    }
   ],
   "source": [
    "grid_cv_gradBC_best.best_params_"
   ]
  },
  {
   "cell_type": "markdown",
   "metadata": {},
   "source": [
    "## Задание 4.7"
   ]
  },
  {
   "cell_type": "code",
   "execution_count": 193,
   "metadata": {},
   "outputs": [
    {
     "name": "stdout",
     "output_type": "stream",
     "text": [
      "Accuracy =  0.8641599652249511\n"
     ]
    }
   ],
   "source": [
    "def AdaBoost_scratch(X,y, M=10, learning_rate =1):\n",
    "    # инициалиазция служебных переменных\n",
    "    y[y==0] = -1\n",
    "    N = len(y)\n",
    "    estimator_list, y_predict_list, estimator_error_list, estimator_weight_list, sample_weight_list = [], [],[],[],[]\n",
    "\n",
    "    # инициализация весов\n",
    "    sample_weight = np.ones(N) / N\n",
    "    sample_weight_list.append(sample_weight.copy())\n",
    "\n",
    "    # цикл по длине М\n",
    "    for m in range(M):   \n",
    "\n",
    "        # обучим базовую модель и получим предсказание\n",
    "        estimator = DecisionTreeClassifier(max_depth = 1, max_leaf_nodes=2)\n",
    "        estimator.fit(X, y, sample_weight=sample_weight)\n",
    "        y_predict = estimator.predict(X)\n",
    "\n",
    "        # Маска для ошибок классификации\n",
    "        incorrect = (y_predict != y)\n",
    "\n",
    "        # Оцениваем ошибку\n",
    "        estimator_error = sum(sample_weight * incorrect) / sum(sample_weight)\n",
    "        \n",
    "        # Вычисляем вес нового алгоритма\n",
    "        estimator_weight = 1/2 * np.log((1 - estimator_error) / estimator_error)\n",
    "\n",
    "        # Получаем новые веса объектов\n",
    "        sample_weight *= np.exp(estimator_weight * incorrect * ((sample_weight > 0) | (estimator_weight < 0)))\n",
    "\n",
    "        # Сохраяем результаты данной итерации\n",
    "        estimator_list.append(estimator)\n",
    "        y_predict_list.append(y_predict.copy())\n",
    "        estimator_error_list.append(estimator_error.copy())\n",
    "        estimator_weight_list.append(estimator_weight.copy())\n",
    "        sample_weight_list.append(sample_weight.copy())\n",
    "        \n",
    "\n",
    "\n",
    "    # Для удобства переведем в numpy.array   \n",
    "    estimator_list = np.asarray(estimator_list)\n",
    "    y_predict_list = np.asarray(y_predict_list)\n",
    "    estimator_error_list = np.asarray(estimator_error_list)\n",
    "    estimator_weight_list = np.asarray(estimator_weight_list)\n",
    "    sample_weight_list = np.asarray(sample_weight_list)\n",
    "\n",
    "    # Получим предсказания\n",
    "    preds = (np.array([np.sign((y_predict_list[:,point] * estimator_weight_list).sum()) for point in range(N)]))\n",
    "    print('Accuracy = ', (preds == y).sum() / N) \n",
    "    \n",
    "    return estimator_list, estimator_weight_list, sample_weight_list\n",
    "\n",
    "estimator_list, estimator_weight_list, sample_weight_list  = AdaBoost_scratch(X, y, M=10, learning_rate=0.001)"
   ]
  },
  {
   "cell_type": "code",
   "execution_count": null,
   "metadata": {},
   "outputs": [],
   "source": []
  }
 ],
 "metadata": {
  "kernelspec": {
   "display_name": "Python 3",
   "language": "python",
   "name": "python3"
  },
  "language_info": {
   "codemirror_mode": {
    "name": "ipython",
    "version": 3
   },
   "file_extension": ".py",
   "mimetype": "text/x-python",
   "name": "python",
   "nbconvert_exporter": "python",
   "pygments_lexer": "ipython3",
   "version": "3.8.5"
  }
 },
 "nbformat": 4,
 "nbformat_minor": 4
}
